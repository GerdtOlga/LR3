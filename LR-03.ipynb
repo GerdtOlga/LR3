{
 "cells": [
  {
   "cell_type": "code",
   "execution_count": null,
   "metadata": {},
   "outputs": [],
   "source": [
    "\n",
    "def main():\n",
    "    slovar = {\"а\": 1, \"б\": 2, \"в\": 3, \"г\": 4, \"д\": 5, \"е\": 6, \"ё\": 7,\n",
    "            \"ж\": 8, \"з\": 9, \"и\": 10, \"й\": 11, \"к\": 12, \"л\": 13, \"м\": 14,\n",
    "            \"н\": 15, \"о\": 16, \"п\": 17, \"р\": 18, \"с\": 19, \"т\": 20, \"у\": 21,\n",
    "            \"ф\": 22, \"х\": 23, \"ц\": 24, \"ч\": 25, \"ш\": 26, \"щ\": 27, \"ъ\": 28,\n",
    "            \"ы\": 29, \"ь\": 30, \"э\": 31, \"ю\": 32, \"я\": 34, \" \": 34\n",
    "            }\n",
    "\n",
    "    slovar2 = {v: k for k, v in slovar.items()}\n",
    "    \n",
    "    text = input(\"Введите текст для шифрования: \").lower()\n",
    "    key = input(\"Введите ключ: \").lower()\n",
    "    lengs = len(text)\n",
    "    lengs_g = len(key)\n",
    "    print(\"Длина текста\",lengs, \"\\nДлина ключа\",lengs_g)\n",
    "    \n",
    "    gamma = key\n",
    "    while lengs >= lengs_g:\n",
    "        gamma = gamma + key\n",
    "        lengs_g = len(gamma)\n",
    "    print(\"\\nдорощенная гамма до длин:\\n\", gamma, \"\\nДлина гаммы\",lengs_g)\n",
    "    \n",
    "    Text_in_numbers = list()\n",
    "    gamma_in_nambers = list()\n",
    "    \n",
    "\n",
    "    for i in text:\n",
    "        Text_in_numbers.append(slovar[i])\n",
    "    print(\"\\nЧисла текста:\\n\", Text_in_numbers)\n",
    "    \n",
    "    for i in gamma:\n",
    "        gamma_in_nambers.append(slovar[i])\n",
    "    print(\"числа гаммы:\\n\", gamma_in_nambers)\n",
    "    \n",
    "    schifr_in_numbers = list()\n",
    "    ch = 0; j = 0 \n",
    "    while j<lengs:\n",
    "        a = (Text_in_numbers[j] + gamma_in_nambers[j])%34\n",
    "        schifr_in_numbers.append(a)\n",
    "        j+=1\n",
    "        \n",
    "    print(\"Числа зашифрованного текста:\\n\", schifr_in_numbers)\n",
    "          \n",
    "    textencrypted=\"\"\n",
    "    for i in schifr_in_numbers:\n",
    "        textencrypted+=slovar2[i]\n",
    "    print(\"\\nЗашифрованный текст: \", textencrypted)\n",
    "          \n",
    "    listofdigits = list()\n",
    "    for i in textencrypted:\n",
    "        listofdigits.append(slovar[i])\n",
    "    ch = 0\n",
    "    listofdigits1 = list()\n",
    "    for i in listofdigits:\n",
    "        a = i - gamma_in_nambers[ch]\n",
    "        if a < 1:\n",
    "            a = 34 + a\n",
    "        listofdigits1.append(a)\n",
    "        ch+=1\n",
    "    textdecrypted = \"\"\n",
    "    for i in listofdigits1:\n",
    "        textdecrypted+=slovar2[i]\n",
    "    print(\"Расшифрованный текст: \", textdecrypted)"
   ]
  },
  {
   "cell_type": "code",
   "execution_count": null,
   "metadata": {},
   "outputs": [],
   "source": [
    "if __name__ == '__main__':\n",
    "    main()"
   ]
  },
  {
   "cell_type": "code",
   "execution_count": null,
   "metadata": {},
   "outputs": [],
   "source": []
  }
 ],
 "metadata": {
  "kernelspec": {
   "display_name": "Python 3",
   "language": "python",
   "name": "python3"
  },
  "language_info": {
   "codemirror_mode": {
    "name": "ipython",
    "version": 3
   },
   "file_extension": ".py",
   "mimetype": "text/x-python",
   "name": "python",
   "nbconvert_exporter": "python",
   "pygments_lexer": "ipython3",
   "version": "3.8.8"
  }
 },
 "nbformat": 4,
 "nbformat_minor": 4
}
